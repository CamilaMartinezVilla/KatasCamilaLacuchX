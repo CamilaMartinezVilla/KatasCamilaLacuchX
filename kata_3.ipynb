{
 "cells": [
  {
   "cell_type": "markdown",
   "metadata": {},
   "source": [
    "EJERCICIO: Escribir declaraciones if, else, y elif"
   ]
  },
  {
   "cell_type": "markdown",
   "metadata": {},
   "source": [
    "*Advertencia si un asteroide se acerca a la Tierra demasiado rápido*"
   ]
  },
  {
   "cell_type": "code",
   "execution_count": 11,
   "metadata": {},
   "outputs": [
    {
     "name": "stdout",
     "output_type": "stream",
     "text": [
      "ADVERTENCIA:asteroide se acerca a la Tierra demasiado rápido, a 49 km/s\n"
     ]
    }
   ],
   "source": [
    "a=49 \n",
    "if a>=25: \n",
    "    print(\"ADVERTENCIA:asteroide se acerca a la Tierra demasiado rápido, a\",a ,\"km/s.\")\n",
    "else:\n",
    "    print(\"Sin riesgo:el asteroide se acerca a la Tierra, a\",a ,\"km/s.\")"
   ]
  },
  {
   "cell_type": "code",
   "execution_count": 17,
   "metadata": {},
   "outputs": [
    {
     "name": "stdout",
     "output_type": "stream",
     "text": [
      "Sin riesgo de asteroide\n"
     ]
    }
   ],
   "source": [
    "asteroide=19 \n",
    "if asteroide>=20: \n",
    "    print(\"A TODO EL MUNDO: busquen un asteroide en el cielo, se dirige a la tierra ahora a una velocidad de\",asteroide,\"km/s.\")\n",
    "elif asteroide==20:\n",
    "    print(\"A TODO EL MUNDO: busquen un asteroide en el cielo, se dirige a la tierra ahora a una velocidad de\",asteroide,\"km/s.\") \n",
    "else:\n",
    "    print(\"Sin riesgo de asteroide,no hay nada que ver.\")"
   ]
  },
  {
   "cell_type": "markdown",
   "metadata": {},
   "source": [
    "EJERCICIO: Uso de operadores and y or"
   ]
  },
  {
   "cell_type": "markdown",
   "metadata": {},
   "source": [
    " *Información más matizada sobre cuándo los asteroides representan un peligro para la Tierra*"
   ]
  },
  {
   "cell_type": "code",
   "execution_count": 28,
   "metadata": {},
   "outputs": [
    {
     "name": "stdout",
     "output_type": "stream",
     "text": [
      "A TODO EL MUNDO: asteroide de alto riesgo se acerca a la Tierra\n"
     ]
    }
   ],
   "source": [
    "tamano=35\n",
    "velocidad=28\n",
    "\n",
    "if tamano > 25 or tamano< 1000:\n",
    "    print(\"A TODO EL MUNDO: asteroide de alto riesgo se acerca a la Tierra, tiene un tamaño de\",tamano, \"m\" )\n",
    "elif tamano <= 25: print(\"Sin riesgo de asteroide,todo en orden.\")   \n",
    "elif velocidad > 20 or velocidad == 20:\n",
    "    print(\"A TODO EL MUNDO: busquen un asteroide en el cielo, se dirige a la tierra ahora a una velocidad de\",velocidad,\"km/s.\")\n",
    "else: print(\"Sin riesgo de asteroide,todo en orden.\")\n"
   ]
  },
  {
   "cell_type": "markdown",
   "metadata": {},
   "source": [
    "Soluciones\n"
   ]
  },
  {
   "cell_type": "markdown",
   "metadata": {},
   "source": [
    "*Problema No. 1*"
   ]
  },
  {
   "cell_type": "code",
   "execution_count": null,
   "metadata": {},
   "outputs": [],
   "source": [
    "asteroide = 49\n",
    "if asteroide > 25:\n",
    "    print('¡Alerta! ¡Un asteroide se acerca a velocidades peligrosas!')\n",
    "else:\n",
    "    print('¡Sigue con tu día!')"
   ]
  },
  {
   "cell_type": "markdown",
   "metadata": {},
   "source": [
    "*Problema No. 2*"
   ]
  },
  {
   "cell_type": "code",
   "execution_count": 18,
   "metadata": {},
   "outputs": [
    {
     "name": "stdout",
     "output_type": "stream",
     "text": [
      "¡Nada que ver aquí!\n"
     ]
    }
   ],
   "source": [
    "asteroide = 19\n",
    "if asteroide > 20:\n",
    "    print('Look up! ¡Hay una luz mágica en el cielo!')\n",
    "elif asteroide == 20:\n",
    "    print('Look up! ¡Hay una luz mágica en el cielo!')\n",
    "else:\n",
    "    print('¡Nada que ver aquí!')"
   ]
  },
  {
   "cell_type": "markdown",
   "metadata": {},
   "source": [
    "Problema No. 3"
   ]
  },
  {
   "cell_type": "code",
   "execution_count": 19,
   "metadata": {},
   "outputs": [
    {
     "name": "stdout",
     "output_type": "stream",
     "text": [
      "Look up! ¡Hay una luz mágica en el cielo!\n"
     ]
    }
   ],
   "source": [
    "velocidad_asteroide = 25\n",
    "tamano_asteroide = 40\n",
    "if velocidad_asteroide > 25 and tamano_asteroide > 25:\n",
    "    print('¡Alerta, Un asteroide muy peligroso viene hacia la Tierra!')\n",
    "elif velocidad_asteroide >= 20:\n",
    "    print('Look up! ¡Hay una luz mágica en el cielo!')\n",
    "elif tamano_asteroide < 25:\n",
    "    print('Nada que ver aquí :)')\n",
    "else:\n",
    "    print('Nada que ver aquí :)')"
   ]
  }
 ],
 "metadata": {
  "interpreter": {
   "hash": "2528821684f9d1227fe243cf913a3566db885bc454137c5ff16f7379b9d4b0ae"
  },
  "kernelspec": {
   "display_name": "Python 3.10.2 64-bit",
   "language": "python",
   "name": "python3"
  },
  "language_info": {
   "codemirror_mode": {
    "name": "ipython",
    "version": 3
   },
   "file_extension": ".py",
   "mimetype": "text/x-python",
   "name": "python",
   "nbconvert_exporter": "python",
   "pygments_lexer": "ipython3",
   "version": "3.10.2"
  },
  "orig_nbformat": 4
 },
 "nbformat": 4,
 "nbformat_minor": 2
}
