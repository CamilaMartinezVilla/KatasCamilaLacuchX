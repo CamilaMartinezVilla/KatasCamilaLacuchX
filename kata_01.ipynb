{
 "cells": [
  {
   "cell_type": "markdown",
   "metadata": {},
   "source": [
    "Kata 1"
   ]
  },
  {
   "cell_type": "markdown",
   "metadata": {},
   "source": [
    "Fecha"
   ]
  },
  {
   "cell_type": "code",
   "execution_count": 13,
   "metadata": {},
   "outputs": [
    {
     "name": "stdout",
     "output_type": "stream",
     "text": [
      "El día de hoy es:\n",
      "2022-02-13\n",
      "El día de hoy es: 2022-02-13\n"
     ]
    }
   ],
   "source": [
    "from datetime import date\n",
    "print(\"El día de hoy es:\")\n",
    "print(date.today())\n",
    "print(\"El día de hoy es: \" + str(date.today()))"
   ]
  },
  {
   "cell_type": "markdown",
   "metadata": {},
   "source": [
    "Conversión entre parsecs y años luz."
   ]
  },
  {
   "cell_type": "code",
   "execution_count": 26,
   "metadata": {},
   "outputs": [
    {
     "name": "stdout",
     "output_type": "stream",
     "text": [
      "1 parsec, es = 3.26156 años luz\n"
     ]
    }
   ],
   "source": [
    "parsec=1\n",
    "lightyears=3.26156*parsec\n",
    "print(str (parsec)+\" parsec, es = \"+str(lightyears)+\" años luz\")"
   ]
  }
 ],
 "metadata": {
  "interpreter": {
   "hash": "2528821684f9d1227fe243cf913a3566db885bc454137c5ff16f7379b9d4b0ae"
  },
  "kernelspec": {
   "display_name": "Python 3.10.2 64-bit",
   "language": "python",
   "name": "python3"
  },
  "language_info": {
   "codemirror_mode": {
    "name": "ipython",
    "version": 3
   },
   "file_extension": ".py",
   "mimetype": "text/x-python",
   "name": "python",
   "nbconvert_exporter": "python",
   "pygments_lexer": "ipython3",
   "version": "3.10.2"
  },
  "orig_nbformat": 4
 },
 "nbformat": 4,
 "nbformat_minor": 2
}
