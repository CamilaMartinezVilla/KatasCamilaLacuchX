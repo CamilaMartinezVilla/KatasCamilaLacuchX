{
 "cells": [
  {
   "cell_type": "markdown",
   "metadata": {},
   "source": [
    "Kata 5\n"
   ]
  },
  {
   "cell_type": "markdown",
   "metadata": {},
   "source": [
    "Ejercicio 1 \n",
    "\n",
    "Operadores aritméticos en Python\n"
   ]
  },
  {
   "cell_type": "markdown",
   "metadata": {},
   "source": [
    "*Distancias de planetas: Tierra (149.597.870 km) y Júpiter (778.547.200 km)*"
   ]
  },
  {
   "cell_type": "code",
   "execution_count": 1,
   "metadata": {},
   "outputs": [
    {
     "name": "stdout",
     "output_type": "stream",
     "text": [
      "628949330\n",
      "390577533.93\n"
     ]
    }
   ],
   "source": [
    "planeta_1 = 149597870\n",
    "planeta_2 = 778547200\n",
    "\n",
    "distancia_en_km = planeta_2 - planeta_1\n",
    "print(distancia_en_km )\n",
    "\n",
    "distancia_en_mi = distancia_en_km * 0.621\n",
    "print(distancia_en_mi )"
   ]
  },
  {
   "cell_type": "markdown",
   "metadata": {},
   "source": [
    "Ejercicio 2"
   ]
  },
  {
   "cell_type": "markdown",
   "metadata": {},
   "source": [
    "Aplicación para trabajar con números y entrada de usuario"
   ]
  },
  {
   "cell_type": "markdown",
   "metadata": {},
   "source": [
    "-Almacenar las entradas del usuario\n",
    "\n",
    "-Pista: variable = input(\"¿Cuál es tu nombre?\")"
   ]
  },
  {
   "cell_type": "code",
   "execution_count": 1,
   "metadata": {},
   "outputs": [
    {
     "ename": "ValueError",
     "evalue": "invalid literal for int() with base 10: ''",
     "output_type": "error",
     "traceback": [
      "\u001b[1;31m---------------------------------------------------------------------------\u001b[0m",
      "\u001b[1;31mValueError\u001b[0m                                Traceback (most recent call last)",
      "\u001b[1;32mc:\\Users\\Camila\\Documents\\01_Launch X\\Onboarding\\CursoIntroPython\\05\\kata_5.ipynb Cell 8'\u001b[0m in \u001b[0;36m<module>\u001b[1;34m\u001b[0m\n\u001b[0;32m      <a href='vscode-notebook-cell:/c%3A/Users/Camila/Documents/01_Launch%20X/Onboarding/CursoIntroPython/05/kata_5.ipynb#ch0000007?line=0'>1</a>\u001b[0m planeta_1 \u001b[39m=\u001b[39m \u001b[39minput\u001b[39m(\u001b[39m'\u001b[39m\u001b[39mIngresar distancia del sol para el primer planeta en kilometros (km)\u001b[39m\u001b[39m'\u001b[39m)\n\u001b[0;32m      <a href='vscode-notebook-cell:/c%3A/Users/Camila/Documents/01_Launch%20X/Onboarding/CursoIntroPython/05/kata_5.ipynb#ch0000007?line=1'>2</a>\u001b[0m planeta_2 \u001b[39m=\u001b[39m \u001b[39minput\u001b[39m(\u001b[39m'\u001b[39m\u001b[39mIngresar distancia del sol para el segundo planeta en kilometros (km)\u001b[39m\u001b[39m'\u001b[39m)\n\u001b[1;32m----> <a href='vscode-notebook-cell:/c%3A/Users/Camila/Documents/01_Launch%20X/Onboarding/CursoIntroPython/05/kata_5.ipynb#ch0000007?line=2'>3</a>\u001b[0m planeta_1 \u001b[39m=\u001b[39m \u001b[39mint\u001b[39;49m(planeta_1)\n\u001b[0;32m      <a href='vscode-notebook-cell:/c%3A/Users/Camila/Documents/01_Launch%20X/Onboarding/CursoIntroPython/05/kata_5.ipynb#ch0000007?line=3'>4</a>\u001b[0m planeta_2 \u001b[39m=\u001b[39m \u001b[39mint\u001b[39m(planeta_2)\n",
      "\u001b[1;31mValueError\u001b[0m: invalid literal for int() with base 10: ''"
     ]
    }
   ],
   "source": [
    "planeta_1 = input('Ingresar distancia del sol para el primer planeta en kilometros (km)')\n",
    "planeta_2 = input('Ingresar distancia del sol para el segundo planeta en kilometros (km)')\n",
    "planeta_1 = int(planeta_1)\n",
    "planeta_2 = int(planeta_2)"
   ]
  },
  {
   "cell_type": "markdown",
   "metadata": {},
   "source": [
    "Realizando el cálculo y convirtiéndolo a valor absoluto"
   ]
  },
  {
   "cell_type": "code",
   "execution_count": 4,
   "metadata": {},
   "outputs": [],
   "source": [
    "planeta_1 = 149597870\n",
    "planeta_2 = 778547200\n",
    "\n",
    "distancia_en_km = planeta_2 - planeta_1\n",
    "distancia_en_mi = distancia_en_km * 0.621\n",
    "\n",
    "planeta_1 = input('Distancia del sol para el primer planeta en kilometros (km)')\n",
    "planeta_2 = input('Distancia del sol para el segundo planeta en kilometros (km)')\n",
    "\n",
    "planeta_1 = int(planeta_1)\n",
    "planeta_2 = int(planeta_2)\n",
    "\n",
    "distancia_en_km  = planeta_2  - planeta_1\n",
    "print(distancia_en_km )\n",
    "\n",
    "distancia_en_mi = distancia_en_km * 0.621\n",
    "print(abs(distancia_en_mi))"
   ]
  }
 ],
 "metadata": {
  "interpreter": {
   "hash": "2528821684f9d1227fe243cf913a3566db885bc454137c5ff16f7379b9d4b0ae"
  },
  "kernelspec": {
   "display_name": "Python 3.10.2 64-bit",
   "language": "python",
   "name": "python3"
  },
  "language_info": {
   "codemirror_mode": {
    "name": "ipython",
    "version": 3
   },
   "file_extension": ".py",
   "mimetype": "text/x-python",
   "name": "python",
   "nbconvert_exporter": "python",
   "pygments_lexer": "ipython3",
   "version": "3.10.2"
  },
  "orig_nbformat": 4
 },
 "nbformat": 4,
 "nbformat_minor": 2
}
